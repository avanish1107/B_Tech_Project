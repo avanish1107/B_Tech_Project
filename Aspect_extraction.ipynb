{
 "cells": [
  {
   "cell_type": "code",
   "execution_count": 2,
   "metadata": {},
   "outputs": [],
   "source": [
    "import nltk\n",
    "import nltk.sentiment as se\n",
    "import xml.etree.ElementTree as ET\n",
    "f=open(r'ABSA16_Laptops_Train_SB1_v2.xml','r')\n",
    "data=f.read()\n",
    "dt=ET.parse('ABSA16_Laptops_Train_SB1_v2.xml')\n",
    "root=dt.getroot()\n",
    "ip=[]\n",
    "op=[]\n",
    "for child in root:\n",
    "    for child1 in child:\n",
    "        for child2 in child1:\n",
    "            i=0\n",
    "            t=[]\n",
    "            for child3 in child2:\n",
    "                if i==0:\n",
    "                    #print(child3.text)\n",
    "                    ip.append(child3.text)\n",
    "                else:\n",
    "                    for child4 in child3:\n",
    "                        #print(child4.attrib)\n",
    "                        t.append(child4.attrib)\n",
    "                i=i+1\n",
    "            op.append(tuple(t))\n",
    "            "
   ]
  },
  {
   "cell_type": "code",
   "execution_count": 2,
   "metadata": {},
   "outputs": [
    {
     "name": "stdout",
     "output_type": "stream",
     "text": [
      "Being a PC user my whole life....\n",
      "This computer is absolutely AMAZING!!!\n",
      "10 plus hours of battery...\n",
      "super fast processor and really nice graphics card..\n",
      "and plenty of storage with 250 gb(though I will upgrade this and the ram..)\n"
     ]
    }
   ],
   "source": [
    "for i in range(5):\n",
    "    print(ip[i])"
   ]
  },
  {
   "cell_type": "code",
   "execution_count": 3,
   "metadata": {},
   "outputs": [],
   "source": [
    "# Removing puncutation marks from sentences\n",
    "from nltk.tokenize import RegexpTokenizer\n",
    "\n",
    "tokenizer = RegexpTokenizer(r'\\w+')\n",
    "ip=tokenizer.tokenize(str(ip))\n"
   ]
  },
  {
   "cell_type": "code",
   "execution_count": 4,
   "metadata": {},
   "outputs": [],
   "source": [
    "from nltk.corpus import stopwords\n",
    "import nltk\n",
    "# tokenizing\n",
    "token_ip=[nltk.word_tokenize(s) for s in ip]    \n"
   ]
  },
  {
   "cell_type": "code",
   "execution_count": 5,
   "metadata": {},
   "outputs": [],
   "source": [
    "# removing stopwords\n",
    "token_ip=[[w for w in s if w not in stopwords.words('english')] for s in token_ip]\n"
   ]
  },
  {
   "cell_type": "code",
   "execution_count": 6,
   "metadata": {},
   "outputs": [],
   "source": [
    "# pos tagging\n",
    "pos_tagged=[nltk.pos_tag(s) for s in token_ip]"
   ]
  },
  {
   "cell_type": "code",
   "execution_count": 7,
   "metadata": {},
   "outputs": [
    {
     "name": "stdout",
     "output_type": "stream",
     "text": [
      "[('Being', 'VBG')]\n",
      "[]\n",
      "[('PC', 'NN')]\n",
      "[('user', 'NN')]\n",
      "[]\n"
     ]
    }
   ],
   "source": [
    "for i in range(5):\n",
    "    print(pos_tagged[i])"
   ]
  },
  {
   "cell_type": "code",
   "execution_count": 9,
   "metadata": {},
   "outputs": [
    {
     "name": "stdout",
     "output_type": "stream",
     "text": [
      "(34166,)\n"
     ]
    }
   ],
   "source": [
    "import numpy as np\n",
    "print(np.shape(token_ip))"
   ]
  },
  {
   "cell_type": "code",
   "execution_count": 11,
   "metadata": {},
   "outputs": [],
   "source": [
    "# Removing spaces and empty data\n",
    "fresh_data=[]\n",
    "for i in range(34166):\n",
    "    if token_ip[i] !=[]:\n",
    "        fresh_data.append(token_ip[i])"
   ]
  },
  {
   "cell_type": "code",
   "execution_count": 13,
   "metadata": {},
   "outputs": [
    {
     "name": "stdout",
     "output_type": "stream",
     "text": [
      "(19210, 1)\n"
     ]
    }
   ],
   "source": [
    "print(np.shape(fresh_data))"
   ]
  },
  {
   "cell_type": "code",
   "execution_count": 15,
   "metadata": {},
   "outputs": [],
   "source": [
    "# pos tagging\n",
    "pos_tagged=[nltk.pos_tag(s) for s in fresh_data]"
   ]
  },
  {
   "cell_type": "code",
   "execution_count": 67,
   "metadata": {},
   "outputs": [],
   "source": [
    "# for frequency of data\n",
    "def count_frequency(i):\n",
    "    ct=0\n",
    "    for j in fresh_data:\n",
    "        if i==j:\n",
    "            ct=ct+1\n",
    "    return ct\n",
    "    "
   ]
  },
  {
   "cell_type": "code",
   "execution_count": 68,
   "metadata": {},
   "outputs": [
    {
     "name": "stdout",
     "output_type": "stream",
     "text": [
      "3\n"
     ]
    }
   ],
   "source": [
    "print(count_frequency(fresh_data[0]))"
   ]
  },
  {
   "cell_type": "code",
   "execution_count": 74,
   "metadata": {},
   "outputs": [],
   "source": [
    "# getting term,term_frequeny, pos_tags and length  of the words\n",
    "\n",
    "term=[]\n",
    "pos=[]\n",
    "frequency=[]\n",
    "loop=0\n",
    "length_of_term=[]\n",
    "import numpy\n",
    "for i in pos_tagged:\n",
    "    pos.append(i[0][1])\n",
    "    term.append(i[0][0])\n",
    "    frequency.append(count_frequency(fresh_data[loop]))\n",
    "    length_of_term.append(len(i[0][0]))\n",
    "    loop=loop+1\n",
    "    "
   ]
  },
  {
   "cell_type": "code",
   "execution_count": 78,
   "metadata": {},
   "outputs": [],
   "source": [
    "# local context Here i am taking two words from previous and two words from next \n",
    "local_context=[]\n",
    "tmp=[]\n",
    "# for first term\n",
    "tmp.append([])\n",
    "tmp.append([])\n",
    "tmp.append(fresh_data[1])\n",
    "tmp.append(fresh_data[2])\n",
    "local_context.append(tmp)\n",
    "tmp=[]\n",
    "# for second term\n",
    "tmp.append([])\n",
    "tmp.append(fresh_data[0])\n",
    "tmp.append(fresh_data[2])\n",
    "tmp.append(fresh_data[3])\n",
    "local_context.append(tmp)\n",
    "\n",
    "for i in range(2,19208):\n",
    "    tmp=[]\n",
    "    tmp.append(fresh_data[i-2])\n",
    "    tmp.append(fresh_data[i-1])\n",
    "    tmp.append(fresh_data[i+1])\n",
    "    tmp.append(fresh_data[i+2])\n",
    "    local_context.append(tmp)\n",
    "\n",
    "# for second last term\n",
    "tmp=[]\n",
    "tmp.append(fresh_data[19206])\n",
    "tmp.append(fresh_data[19207])\n",
    "tmp.append(fresh_data[19209])\n",
    "tmp.append([])\n",
    "local_context.append(tmp)\n",
    "\n",
    "# for last term\n",
    "\n",
    "tmp=[]\n",
    "tmp.append(fresh_data[19207])\n",
    "tmp.append(fresh_data[19208])\n",
    "tmp.append([])\n",
    "tmp.append([])\n",
    "local_context.append(tmp)\n"
   ]
  },
  {
   "cell_type": "code",
   "execution_count": 79,
   "metadata": {},
   "outputs": [
    {
     "data": {
      "text/plain": [
       "(19210,)"
      ]
     },
     "execution_count": 79,
     "metadata": {},
     "output_type": "execute_result"
    }
   ],
   "source": [
    "numpy.shape(term)"
   ]
  },
  {
   "cell_type": "code",
   "execution_count": 80,
   "metadata": {},
   "outputs": [
    {
     "data": {
      "text/plain": [
       "[[[], [], ['PC'], ['user']],\n",
       " [[], ['Being'], ['user'], ['whole']],\n",
       " [['Being'], ['PC'], ['whole'], ['life']],\n",
       " [['PC'], ['user'], ['life'], ['This']],\n",
       " [['user'], ['whole'], ['This'], ['computer']]]"
      ]
     },
     "execution_count": 80,
     "metadata": {},
     "output_type": "execute_result"
    }
   ],
   "source": [
    "local_context[:5]"
   ]
  },
  {
   "cell_type": "code",
   "execution_count": 86,
   "metadata": {},
   "outputs": [
    {
     "data": {
      "text/plain": [
       "(19210, 4)"
      ]
     },
     "execution_count": 86,
     "metadata": {},
     "output_type": "execute_result"
    }
   ],
   "source": [
    "numpy.shape(local_context)"
   ]
  },
  {
   "cell_type": "code",
   "execution_count": 87,
   "metadata": {},
   "outputs": [],
   "source": [
    "all_data=[]\n",
    "all_data.append(term)\n",
    "all_data.append(pos)\n",
    "all_data.append(frequency)\n",
    "all_data.append(length_of_term)\n",
    "all_data.append(local_context)"
   ]
  },
  {
   "cell_type": "code",
   "execution_count": 89,
   "metadata": {},
   "outputs": [
    {
     "ename": "ValueError",
     "evalue": "setting an array element with a sequence",
     "output_type": "error",
     "traceback": [
      "\u001b[1;31m---------------------------------------------------------------------------\u001b[0m",
      "\u001b[1;31mAttributeError\u001b[0m                            Traceback (most recent call last)",
      "\u001b[1;32m~\\Anaconda3\\lib\\site-packages\\numpy\\core\\fromnumeric.py\u001b[0m in \u001b[0;36mshape\u001b[1;34m(a)\u001b[0m\n\u001b[0;32m   1651\u001b[0m     \u001b[1;32mtry\u001b[0m\u001b[1;33m:\u001b[0m\u001b[1;33m\u001b[0m\u001b[0m\n\u001b[1;32m-> 1652\u001b[1;33m         \u001b[0mresult\u001b[0m \u001b[1;33m=\u001b[0m \u001b[0ma\u001b[0m\u001b[1;33m.\u001b[0m\u001b[0mshape\u001b[0m\u001b[1;33m\u001b[0m\u001b[0m\n\u001b[0m\u001b[0;32m   1653\u001b[0m     \u001b[1;32mexcept\u001b[0m \u001b[0mAttributeError\u001b[0m\u001b[1;33m:\u001b[0m\u001b[1;33m\u001b[0m\u001b[0m\n",
      "\u001b[1;31mAttributeError\u001b[0m: 'list' object has no attribute 'shape'",
      "\nDuring handling of the above exception, another exception occurred:\n",
      "\u001b[1;31mValueError\u001b[0m                                Traceback (most recent call last)",
      "\u001b[1;32m<ipython-input-89-a474a2e1c50a>\u001b[0m in \u001b[0;36m<module>\u001b[1;34m()\u001b[0m\n\u001b[1;32m----> 1\u001b[1;33m \u001b[0mnumpy\u001b[0m\u001b[1;33m.\u001b[0m\u001b[0mshape\u001b[0m\u001b[1;33m(\u001b[0m\u001b[0mall_data\u001b[0m\u001b[1;33m)\u001b[0m\u001b[1;33m\u001b[0m\u001b[0m\n\u001b[0m",
      "\u001b[1;32m~\\Anaconda3\\lib\\site-packages\\numpy\\core\\fromnumeric.py\u001b[0m in \u001b[0;36mshape\u001b[1;34m(a)\u001b[0m\n\u001b[0;32m   1652\u001b[0m         \u001b[0mresult\u001b[0m \u001b[1;33m=\u001b[0m \u001b[0ma\u001b[0m\u001b[1;33m.\u001b[0m\u001b[0mshape\u001b[0m\u001b[1;33m\u001b[0m\u001b[0m\n\u001b[0;32m   1653\u001b[0m     \u001b[1;32mexcept\u001b[0m \u001b[0mAttributeError\u001b[0m\u001b[1;33m:\u001b[0m\u001b[1;33m\u001b[0m\u001b[0m\n\u001b[1;32m-> 1654\u001b[1;33m         \u001b[0mresult\u001b[0m \u001b[1;33m=\u001b[0m \u001b[0masarray\u001b[0m\u001b[1;33m(\u001b[0m\u001b[0ma\u001b[0m\u001b[1;33m)\u001b[0m\u001b[1;33m.\u001b[0m\u001b[0mshape\u001b[0m\u001b[1;33m\u001b[0m\u001b[0m\n\u001b[0m\u001b[0;32m   1655\u001b[0m     \u001b[1;32mreturn\u001b[0m \u001b[0mresult\u001b[0m\u001b[1;33m\u001b[0m\u001b[0m\n\u001b[0;32m   1656\u001b[0m \u001b[1;33m\u001b[0m\u001b[0m\n",
      "\u001b[1;32m~\\Anaconda3\\lib\\site-packages\\numpy\\core\\numeric.py\u001b[0m in \u001b[0;36masarray\u001b[1;34m(a, dtype, order)\u001b[0m\n\u001b[0;32m    490\u001b[0m \u001b[1;33m\u001b[0m\u001b[0m\n\u001b[0;32m    491\u001b[0m     \"\"\"\n\u001b[1;32m--> 492\u001b[1;33m     \u001b[1;32mreturn\u001b[0m \u001b[0marray\u001b[0m\u001b[1;33m(\u001b[0m\u001b[0ma\u001b[0m\u001b[1;33m,\u001b[0m \u001b[0mdtype\u001b[0m\u001b[1;33m,\u001b[0m \u001b[0mcopy\u001b[0m\u001b[1;33m=\u001b[0m\u001b[1;32mFalse\u001b[0m\u001b[1;33m,\u001b[0m \u001b[0morder\u001b[0m\u001b[1;33m=\u001b[0m\u001b[0morder\u001b[0m\u001b[1;33m)\u001b[0m\u001b[1;33m\u001b[0m\u001b[0m\n\u001b[0m\u001b[0;32m    493\u001b[0m \u001b[1;33m\u001b[0m\u001b[0m\n\u001b[0;32m    494\u001b[0m \u001b[1;33m\u001b[0m\u001b[0m\n",
      "\u001b[1;31mValueError\u001b[0m: setting an array element with a sequence"
     ]
    }
   ],
   "source": [
    "numpy.shape(all_data)"
   ]
  },
  {
   "cell_type": "code",
   "execution_count": null,
   "metadata": {},
   "outputs": [],
   "source": []
  }
 ],
 "metadata": {
  "kernelspec": {
   "display_name": "Python 3",
   "language": "python",
   "name": "python3"
  },
  "language_info": {
   "codemirror_mode": {
    "name": "ipython",
    "version": 3
   },
   "file_extension": ".py",
   "mimetype": "text/x-python",
   "name": "python",
   "nbconvert_exporter": "python",
   "pygments_lexer": "ipython3",
   "version": "3.7.6"
  }
 },
 "nbformat": 4,
 "nbformat_minor": 2
}
