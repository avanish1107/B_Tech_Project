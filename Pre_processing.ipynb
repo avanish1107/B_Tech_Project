{
 "cells": [
  {
   "cell_type": "code",
   "execution_count": 2,
   "metadata": {},
   "outputs": [
    {
     "name": "stderr",
     "output_type": "stream",
     "text": [
      "C:\\Users\\avani\\Anaconda3\\lib\\site-packages\\nltk\\twitter\\__init__.py:20: UserWarning: The twython library has not been installed. Some functionality from the twitter package will not be available.\n",
      "  warnings.warn(\"The twython library has not been installed. \"\n"
     ]
    }
   ],
   "source": [
    "import nltk\n",
    "import nltk.sentiment as se\n",
    "import xml.etree.ElementTree as ET\n",
    "f=open(r'ABSA16_Laptops_Train_SB1_v2.xml','r')\n",
    "data=f.read()\n",
    "dt=ET.parse('ABSA16_Laptops_Train_SB1_v2.xml')\n"
   ]
  },
  {
   "cell_type": "code",
   "execution_count": 3,
   "metadata": {},
   "outputs": [],
   "source": [
    "root=dt.getroot()\n",
    "ip=[]\n",
    "op=[]\n",
    "for child in root:\n",
    "    for child1 in child:\n",
    "        for child2 in child1:\n",
    "            i=0\n",
    "            t=[]\n",
    "            for child3 in child2:\n",
    "                if i==0:\n",
    "                    #print(child3.text)\n",
    "                    ip.append(child3.text)\n",
    "                else:\n",
    "                    for child4 in child3:\n",
    "                        #print(child4.attrib)\n",
    "                        t.append(child4.attrib)\n",
    "                i=i+1\n",
    "            op.append(tuple(t))\n",
    "            "
   ]
  },
  {
   "cell_type": "code",
   "execution_count": 4,
   "metadata": {},
   "outputs": [
    {
     "name": "stdout",
     "output_type": "stream",
     "text": [
      "<class 'list'>\n",
      "<class 'list'>\n"
     ]
    }
   ],
   "source": [
    "print(type(ip))\n",
    "print(type(op))"
   ]
  },
  {
   "cell_type": "code",
   "execution_count": 5,
   "metadata": {},
   "outputs": [],
   "source": [
    "from nltk.corpus import stopwords"
   ]
  },
  {
   "cell_type": "code",
   "execution_count": 6,
   "metadata": {},
   "outputs": [],
   "source": [
    "token_ip=[nltk.word_tokenize(s) for s in ip]     # tokenizing the input text for the dataset."
   ]
  },
  {
   "cell_type": "code",
   "execution_count": 19,
   "metadata": {},
   "outputs": [
    {
     "name": "stdout",
     "output_type": "stream",
     "text": [
      "<class 'list'>\n",
      "Being\n",
      "PC\n",
      "user\n",
      "whole\n",
      "life\n",
      "This\n",
      "computer\n",
      "absolutely\n",
      "AMAZING\n",
      "10\n",
      "plus\n",
      "hours\n",
      "battery\n",
      "super\n",
      "fast\n",
      "processor\n",
      "really\n",
      "nice\n",
      "graphics\n",
      "card\n"
     ]
    }
   ],
   "source": [
    "\n",
    "# removing puntuation marks\n",
    "from nltk.tokenize import RegexpTokenizer\n",
    "\n",
    "tokenizer = RegexpTokenizer(r'\\w+')\n",
    "\n",
    "clean_data=tokenizer.tokenize(str(token_ip))\n",
    "\n",
    "\n",
    "\n",
    "print(type(clean_data))\n",
    "for i in range(20):\n",
    "    print(clean_data[i])"
   ]
  },
  {
   "cell_type": "code",
   "execution_count": 7,
   "metadata": {},
   "outputs": [],
   "source": [
    "# removing stopwords\n",
    "token_ip=[[w for w in s if w not in stopwords.words('english')] for s in token_ip]"
   ]
  },
  {
   "cell_type": "code",
   "execution_count": 8,
   "metadata": {},
   "outputs": [],
   "source": [
    "# pos tagging\n",
    "pos_tagged=[nltk.pos_tag(s) for s in token_ip]"
   ]
  },
  {
   "cell_type": "code",
   "execution_count": 10,
   "metadata": {},
   "outputs": [
    {
     "name": "stdout",
     "output_type": "stream",
     "text": [
      "[('Being', 'VBG'), ('PC', 'NNP'), ('user', 'NN'), ('whole', 'JJ'), ('life', 'NN'), ('...', ':'), ('.', '.')]\n",
      "[('This', 'DT'), ('computer', 'NN'), ('absolutely', 'RB'), ('AMAZING', 'JJ'), ('!', '.'), ('!', '.'), ('!', '.')]\n",
      "[('10', 'CD'), ('plus', 'CC'), ('hours', 'NNS'), ('battery', 'NN'), ('...', ':')]\n",
      "[('super', 'JJ'), ('fast', 'NN'), ('processor', 'NN'), ('really', 'RB'), ('nice', 'JJ'), ('graphics', 'NNS'), ('card..', 'VBP')]\n",
      "[('plenty', 'JJ'), ('storage', 'NN'), ('250', 'CD'), ('gb', 'NN'), ('(', '('), ('though', 'IN'), ('I', 'PRP'), ('upgrade', 'VBP'), ('ram..', 'NN'), (')', ')')]\n"
     ]
    }
   ],
   "source": [
    "for i in range(5):\n",
    "    print(pos_tagged[i])"
   ]
  },
  {
   "cell_type": "code",
   "execution_count": null,
   "metadata": {},
   "outputs": [],
   "source": []
  }
 ],
 "metadata": {
  "kernelspec": {
   "display_name": "Python 3",
   "language": "python",
   "name": "python3"
  },
  "language_info": {
   "codemirror_mode": {
    "name": "ipython",
    "version": 3
   },
   "file_extension": ".py",
   "mimetype": "text/x-python",
   "name": "python",
   "nbconvert_exporter": "python",
   "pygments_lexer": "ipython3",
   "version": "3.6.5"
  }
 },
 "nbformat": 4,
 "nbformat_minor": 2
}
